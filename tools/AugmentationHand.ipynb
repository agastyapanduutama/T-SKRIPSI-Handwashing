{
  "nbformat": 4,
  "nbformat_minor": 0,
  "metadata": {
    "colab": {
      "name": "AugmentationHand",
      "provenance": [],
      "collapsed_sections": []
    },
    "kernelspec": {
      "name": "python3",
      "display_name": "Python 3"
    },
    "language_info": {
      "name": "python"
    }
  },
  "cells": [
    {
      "cell_type": "code",
      "metadata": {
        "id": "g63vfduTzVtI"
      },
      "source": [
        "# Library\n",
        "import os\n",
        "import cv2\n",
        "from numpy import expand_dims\n",
        "from keras.preprocessing.image import load_img\n",
        "from keras.preprocessing.image import img_to_array\n",
        "from keras.preprocessing.image import ImageDataGenerator\n",
        "from tensorflow.keras.preprocessing.image import ImageDataGenerator\n",
        "import numpy as np\n",
        "\n",
        "os.system(\"clear\")\n",
        "\n",
        "srcFolder = \"/content/images/\"\n",
        "tgtFolder = \"/content/augment/\"\n",
        "\n",
        "srcFiles = os.listdir(srcFolder)\n",
        "tgtFiles = []\n",
        "\n",
        "NsF = len(srcFiles)\n",
        "\n",
        "# Count total file in folder\n",
        "APP_FOLDER = '/content/images'\n",
        "totalFiles = 0\n",
        "for files in os.walk(APP_FOLDER):\n",
        "    for Files in files:\n",
        "        totalFiles += 1\n",
        "\n",
        "print('Total number of files',totalFiles)\n",
        "\n",
        "NsFperm = np.random.permutation(NsF)\n",
        "NinFrame = totalFiles\n",
        "\n",
        "for i in range(NinFrame):\n",
        "\tframeIdx = NsFperm[i]\n",
        "\tfNm = srcFiles[frameIdx]\n",
        "\tfNm = fNm[:-4]\n",
        "\ttgtFiles.append(fNm)\n",
        "\n",
        "for idx in range(NinFrame):\n",
        "\tprint(tgtFiles[idx])\n",
        "\tframeIdx = NsFperm[idx]\n",
        "\timg = load_img(srcFolder+srcFiles[frameIdx])\n",
        "\tdata = img_to_array(img)\n",
        "\tsamples = expand_dims(data, 0)\n",
        "\tshftPix = 3\n",
        "\n",
        "\tdatagen = ImageDataGenerator(\n",
        "\t\theight_shift_range=[-shftPix,shftPix],\n",
        "\t\twidth_shift_range=[-shftPix,shftPix],\n",
        "\t\trotation_range=10,\n",
        "\t\tbrightness_range=[0.5,1.0],\n",
        "\t\tzoom_range=[0.5,1.0])\n",
        "\tit = datagen.flow(samples, batch_size=1)\n",
        "\n",
        "\tfor i in range(10):\n",
        "\t\tbatch = it.next()\n",
        "\t\timage = batch[0].astype('uint8')\n",
        "\t\timage = cv2.cvtColor(image, cv2.COLOR_RGB2BGR)\n",
        "\n",
        "\t\tidxS = str(100+i)\n",
        "\t\tidxS = idxS[1:]\n",
        "\n",
        "\t\tfileName = \"ag_\"+tgtFiles[idx]+\"_\"+idxS+\".png\"\n",
        "\t\tpathToSave = tgtFolder+fileName\n",
        "\t\tprint(pathToSave)\n",
        "\t\tcv2.imwrite(pathToSave, image)"
      ],
      "execution_count": null,
      "outputs": []
    },
    {
      "cell_type": "code",
      "metadata": {
        "colab": {
          "base_uri": "https://localhost:8080/"
        },
        "id": "hanU2lg14Wxs",
        "outputId": "3dc47a4d-3481-4932-ba0c-d3e45c0c07af"
      },
      "source": [
        "import os\n",
        "APP_FOLDER = '/content/images'\n",
        "totalFiles = 0\n",
        "for files in os.walk(APP_FOLDER):\n",
        "    for Files in files:\n",
        "        totalFiles += 1\n",
        "\n",
        "\n",
        "print('Total number of files',totalFiles)"
      ],
      "execution_count": 19,
      "outputs": [
        {
          "output_type": "stream",
          "name": "stdout",
          "text": [
            "Total number of files 3\n"
          ]
        }
      ]
    },
    {
      "cell_type": "code",
      "metadata": {
        "id": "dzPYN5nxz36X"
      },
      "source": [
        "!zip -r compressed_filename.zip /content/augment/"
      ],
      "execution_count": null,
      "outputs": []
    }
  ]
}