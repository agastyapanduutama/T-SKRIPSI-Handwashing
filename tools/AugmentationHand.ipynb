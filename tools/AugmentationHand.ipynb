{
  "nbformat": 4,
  "nbformat_minor": 2,
  "metadata": {
    "colab": {
      "name": "AugmentationHand",
      "provenance": [],
      "collapsed_sections": []
    },
    "kernelspec": {
      "name": "python3",
      "display_name": "Python 3"
    },
    "language_info": {
      "name": "python"
    }
  },
  "cells": [
    {
      "cell_type": "code",
      "execution_count": null,
      "source": [
        "# You can change extension from ipynb to py\r\n",
        "\r\n",
        "# Library\r\n",
        "import os\r\n",
        "import cv2\r\n",
        "from numpy import expand_dims\r\n",
        "from keras.preprocessing.image import load_img\r\n",
        "from keras.preprocessing.image import img_to_array\r\n",
        "from keras.preprocessing.image import ImageDataGenerator\r\n",
        "from tensorflow.keras.preprocessing.image import ImageDataGenerator\r\n",
        "import numpy as np\r\n",
        "\r\n",
        "os.system(\"clear\")\r\n",
        "\r\n",
        "srcFolder = \"/content/images/\"\r\n",
        "tgtFolder = \"/content/augment/\"\r\n",
        "\r\n",
        "srcFiles = os.listdir(srcFolder)\r\n",
        "tgtFiles = []\r\n",
        "\r\n",
        "NsF = len(srcFiles)\r\n",
        "\r\n",
        "# Count total file in folder\r\n",
        "APP_FOLDER = srcFolder\r\n",
        "totalFiles = 0\r\n",
        "for files in os.walk(APP_FOLDER):\r\n",
        "    for Files in files:\r\n",
        "        totalFiles += 1\r\n",
        "\r\n",
        "print('Total number of files',totalFiles)\r\n",
        "\r\n",
        "NsFperm = np.random.permutation(NsF)\r\n",
        "NinFrame = totalFiles\r\n",
        "\r\n",
        "for i in range(NinFrame):\r\n",
        "\tframeIdx = NsFperm[i]\r\n",
        "\tfNm = srcFiles[frameIdx]\r\n",
        "\tfNm = fNm[:-4]\r\n",
        "\ttgtFiles.append(fNm)\r\n",
        "\r\n",
        "for idx in range(NinFrame):\r\n",
        "\tprint(tgtFiles[idx])\r\n",
        "\tframeIdx = NsFperm[idx]\r\n",
        "\timg = load_img(srcFolder+srcFiles[frameIdx])\r\n",
        "\tdata = img_to_array(img)\r\n",
        "\tsamples = expand_dims(data, 0)\r\n",
        "\tshftPix = 3\r\n",
        "\r\n",
        "\tdatagen = ImageDataGenerator(\r\n",
        "\t\theight_shift_range=[-shftPix,shftPix],\r\n",
        "\t\twidth_shift_range=[-shftPix,shftPix],\r\n",
        "\t\trotation_range=10,\r\n",
        "\t\tbrightness_range=[0.5,1.0],\r\n",
        "\t\tzoom_range=[0.5,1.0])\r\n",
        "\tit = datagen.flow(samples, batch_size=1)\r\n",
        "\r\n",
        "\tfor i in range(10):\r\n",
        "\t\tbatch = it.next()\r\n",
        "\t\timage = batch[0].astype('uint8')\r\n",
        "\t\timage = cv2.cvtColor(image, cv2.COLOR_RGB2BGR)\r\n",
        "\r\n",
        "\t\tidxS = str(100+i)\r\n",
        "\t\tidxS = idxS[1:]\r\n",
        "\r\n",
        "\t\tfileName = \"ag_\"+tgtFiles[idx]+\"_\"+idxS+\".png\"\r\n",
        "\t\tpathToSave = tgtFolder+fileName\r\n",
        "\t\tprint(pathToSave)\r\n",
        "\t\tcv2.imwrite(pathToSave, image)"
      ],
      "outputs": [],
      "metadata": {
        "id": "g63vfduTzVtI"
      }
    },
    {
      "cell_type": "code",
      "execution_count": 19,
      "source": [
        "import os\n",
        "APP_FOLDER = '/content/images'\n",
        "totalFiles = 0\n",
        "for files in os.walk(APP_FOLDER):\n",
        "    for Files in files:\n",
        "        totalFiles += 1\n",
        "\n",
        "\n",
        "print('Total number of files',totalFiles)"
      ],
      "outputs": [
        {
          "output_type": "stream",
          "name": "stdout",
          "text": [
            "Total number of files 3\n"
          ]
        }
      ],
      "metadata": {
        "colab": {
          "base_uri": "https://localhost:8080/"
        },
        "id": "hanU2lg14Wxs",
        "outputId": "3dc47a4d-3481-4932-ba0c-d3e45c0c07af"
      }
    },
    {
      "cell_type": "code",
      "execution_count": null,
      "source": [
        "!zip -r compressed_filename.zip /content/augment/"
      ],
      "outputs": [],
      "metadata": {
        "id": "dzPYN5nxz36X"
      }
    }
  ]
}