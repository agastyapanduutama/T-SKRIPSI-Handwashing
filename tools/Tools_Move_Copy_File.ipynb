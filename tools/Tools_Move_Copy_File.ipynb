{
  "nbformat": 4,
  "nbformat_minor": 0,
  "metadata": {
    "colab": {
      "name": "Tools Move-Copy File.ipynb",
      "provenance": [],
      "collapsed_sections": []
    },
    "kernelspec": {
      "name": "python3",
      "display_name": "Python 3"
    },
    "language_info": {
      "name": "python"
    },
    "accelerator": "GPU"
  },
  "cells": [
    {
      "cell_type": "code",
      "metadata": {
        "id": "IPeepB7tmo6-"
      },
      "source": [
        "# Hitung jumlah file yang ada dalam folder\n",
        "import os\n",
        "import shutil\n",
        "\n",
        "APP_FOLDER = '/content/DS/train'\n",
        "\n",
        "totalFiles = 0\n",
        "totalDir = 0\n",
        "\n",
        "for base, dirs, files in os.walk(APP_FOLDER):\n",
        "    print('Searching in : ',base)\n",
        "    for directories in dirs:\n",
        "        totalDir += 1\n",
        "    for Files in files:\n",
        "        totalFiles += 1\n",
        "\n",
        "print('Total number of files',totalFiles)\n",
        "print('Total Number of directories',totalDir)\n",
        "print('Total:',(totalDir + totalFiles))"
      ],
      "execution_count": null,
      "outputs": []
    },
    {
      "cell_type": "code",
      "metadata": {
        "colab": {
          "base_uri": "https://localhost:8080/"
        },
        "id": "LI18U0SJiHHK",
        "outputId": "e32c9c32-596a-4a02-e1b3-e81350681e08"
      },
      "source": [
        "# Mencari nama file dengan nama spesifik\n",
        "import os, fnmatch\n",
        "\n",
        "def find(pattern, path):\n",
        "    result = []\n",
        "    for root, dirs, files in os.walk(path):\n",
        "        for name in files:\n",
        "            if fnmatch.fnmatch(name, pattern):\n",
        "                result.append(os.path.join(root, name))\n",
        "    return result\n",
        "\n",
        "find('old*', '/content/drive/MyDrive/skripsi/dataset/video/trainImageWithAugment/5')"
      ],
      "execution_count": null,
      "outputs": [
        {
          "output_type": "execute_result",
          "data": {
            "text/plain": [
              "[]"
            ]
          },
          "metadata": {},
          "execution_count": 23
        }
      ]
    },
    {
      "cell_type": "code",
      "metadata": {
        "id": "x0e9FXQB2ve6",
        "colab": {
          "base_uri": "https://localhost:8080/",
          "height": 35
        },
        "outputId": "6a600af0-7336-4fe2-8601-27ebbcde7df3"
      },
      "source": [
        "# Memindahkan file\n",
        "import shutil\n",
        "\n",
        "source = r'/content/DS/train/squares/drawing(1).png'\n",
        "target = r'/content/DS/test/squares/gambar.jpg'\n",
        "\n",
        "shutil.copyfile(source,target)"
      ],
      "execution_count": null,
      "outputs": [
        {
          "output_type": "execute_result",
          "data": {
            "application/vnd.google.colaboratory.intrinsic+json": {
              "type": "string"
            },
            "text/plain": [
              "'/content/DS/test/squares/gambar.jpg'"
            ]
          },
          "metadata": {},
          "execution_count": 5
        }
      ]
    },
    {
      "cell_type": "code",
      "metadata": {
        "id": "ehKY0B49Rlx7"
      },
      "source": [
        "# Copy file hanya support file tidak folder\n",
        "import os\n",
        "import shutil\n",
        "\n",
        "source_folder = r'/content/drive/MyDrive/skripsi/dataset/video/trainImage/6/'\n",
        "destination_folder = r'/content/drive/MyDrive/skripsi/dataset/video/trainImageWithAugment/6/'\n",
        "\n",
        "for file_name in os.listdir(source_folder):\n",
        "    source = source_folder + file_name\n",
        "    destination = destination_folder + 'new_' + file_name\n",
        "    if os.path.isfile(source):\n",
        "        shutil.copy(source, destination)\n",
        "        print('copied', destination)"
      ],
      "execution_count": null,
      "outputs": []
    },
    {
      "cell_type": "code",
      "metadata": {
        "id": "quouDGWz9EHu"
      },
      "source": [
        "# Memindahkan File\n",
        "import os, fnmatch\n",
        "import shutil\n",
        "\n",
        "def find(pattern, path):\n",
        "    result = []\n",
        "    for root, dirs, files in os.walk(path):\n",
        "        for name in files:\n",
        "            if fnmatch.fnmatch(name, pattern):\n",
        "                result.append(os.path.join(root, name))\n",
        "                listToStr = ' '.join(map(str, result))\n",
        "\n",
        "    a_string = listToStr\n",
        "    letter_list = a_string.split(\" \")\n",
        "    for x in letter_list:\n",
        "      print(x)\n",
        "      target = '/content/drive/MyDrive/skripsi/dataset/video/trainImageWithAugment/6'\n",
        "      shutil.move(x,target)\n",
        "    # return letter_list\n",
        "\n",
        "find('ag_*.png', '/content/drive/MyDrive/skripsi/dataset/video/trainImage/gerakan6')\n"
      ],
      "execution_count": null,
      "outputs": []
    },
    {
      "cell_type": "code",
      "metadata": {
        "id": "e88eIW4V-m0_"
      },
      "source": [
        "a_string = \"\"\n",
        "letter_list = a_string.split(\" \")\n",
        "print(letter_list)\n",
        "for x in letter_list:\n",
        "  print(str(x))"
      ],
      "execution_count": null,
      "outputs": []
    },
    {
      "cell_type": "code",
      "metadata": {
        "id": "v1d9BGVTEJQE"
      },
      "source": [
        "# Zip file\n",
        "import os\n",
        "import zipfile\n",
        "    \n",
        "def zipdir(path, ziph):\n",
        "    # ziph is zipfile handle\n",
        "    for root, dirs, files in os.walk(path):\n",
        "        for file in files:\n",
        "            ziph.write(os.path.join(root, file), \n",
        "                       os.path.relpath(os.path.join(root, file), \n",
        "                                       os.path.join(path, '..')))\n",
        "      \n",
        "zipf = zipfile.ZipFile('Python.zip', 'w', zipfile.ZIP_DEFLATED)\n",
        "zipdir('/content/drive/MyDrive/skripsi/dataset/video/trainImageWithAugment/', zipf)\n",
        "zipf.close()"
      ],
      "execution_count": null,
      "outputs": []
    }
  ]
}